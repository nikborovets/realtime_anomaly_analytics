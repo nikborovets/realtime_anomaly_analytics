{
 "cells": [
  {
   "cell_type": "code",
   "execution_count": 1,
   "metadata": {},
   "outputs": [
    {
     "name": "stdout",
     "output_type": "stream",
     "text": [
      "Requirement already satisfied: prometheus-api-client in /Users/nikolayborovets/Desktop/bachelor_diploma/realtime_anomaly_analytics/.venv/lib/python3.13/site-packages (0.6.0)\n",
      "Requirement already satisfied: requests in /Users/nikolayborovets/Desktop/bachelor_diploma/realtime_anomaly_analytics/.venv/lib/python3.13/site-packages (from prometheus-api-client) (2.32.3)\n",
      "Requirement already satisfied: dateparser in /Users/nikolayborovets/Desktop/bachelor_diploma/realtime_anomaly_analytics/.venv/lib/python3.13/site-packages (from prometheus-api-client) (1.2.1)\n",
      "Requirement already satisfied: pandas>=1.4.0 in /Users/nikolayborovets/Desktop/bachelor_diploma/realtime_anomaly_analytics/.venv/lib/python3.13/site-packages (from prometheus-api-client) (2.2.3)\n",
      "Requirement already satisfied: numpy in /Users/nikolayborovets/Desktop/bachelor_diploma/realtime_anomaly_analytics/.venv/lib/python3.13/site-packages (from prometheus-api-client) (2.2.5)\n",
      "Requirement already satisfied: matplotlib in /Users/nikolayborovets/Desktop/bachelor_diploma/realtime_anomaly_analytics/.venv/lib/python3.13/site-packages (from prometheus-api-client) (3.10.1)\n",
      "Requirement already satisfied: httmock in /Users/nikolayborovets/Desktop/bachelor_diploma/realtime_anomaly_analytics/.venv/lib/python3.13/site-packages (from prometheus-api-client) (1.4.0)\n",
      "Requirement already satisfied: python-dateutil>=2.8.2 in /Users/nikolayborovets/Desktop/bachelor_diploma/realtime_anomaly_analytics/.venv/lib/python3.13/site-packages (from pandas>=1.4.0->prometheus-api-client) (2.9.0.post0)\n",
      "Requirement already satisfied: pytz>=2020.1 in /Users/nikolayborovets/Desktop/bachelor_diploma/realtime_anomaly_analytics/.venv/lib/python3.13/site-packages (from pandas>=1.4.0->prometheus-api-client) (2025.2)\n",
      "Requirement already satisfied: tzdata>=2022.7 in /Users/nikolayborovets/Desktop/bachelor_diploma/realtime_anomaly_analytics/.venv/lib/python3.13/site-packages (from pandas>=1.4.0->prometheus-api-client) (2025.2)\n",
      "Requirement already satisfied: regex!=2019.02.19,!=2021.8.27,>=2015.06.24 in /Users/nikolayborovets/Desktop/bachelor_diploma/realtime_anomaly_analytics/.venv/lib/python3.13/site-packages (from dateparser->prometheus-api-client) (2024.11.6)\n",
      "Requirement already satisfied: tzlocal>=0.2 in /Users/nikolayborovets/Desktop/bachelor_diploma/realtime_anomaly_analytics/.venv/lib/python3.13/site-packages (from dateparser->prometheus-api-client) (5.3.1)\n",
      "Requirement already satisfied: charset-normalizer<4,>=2 in /Users/nikolayborovets/Desktop/bachelor_diploma/realtime_anomaly_analytics/.venv/lib/python3.13/site-packages (from requests->prometheus-api-client) (3.4.1)\n",
      "Requirement already satisfied: idna<4,>=2.5 in /Users/nikolayborovets/Desktop/bachelor_diploma/realtime_anomaly_analytics/.venv/lib/python3.13/site-packages (from requests->prometheus-api-client) (3.10)\n",
      "Requirement already satisfied: urllib3<3,>=1.21.1 in /Users/nikolayborovets/Desktop/bachelor_diploma/realtime_anomaly_analytics/.venv/lib/python3.13/site-packages (from requests->prometheus-api-client) (2.4.0)\n",
      "Requirement already satisfied: certifi>=2017.4.17 in /Users/nikolayborovets/Desktop/bachelor_diploma/realtime_anomaly_analytics/.venv/lib/python3.13/site-packages (from requests->prometheus-api-client) (2025.4.26)\n",
      "Requirement already satisfied: contourpy>=1.0.1 in /Users/nikolayborovets/Desktop/bachelor_diploma/realtime_anomaly_analytics/.venv/lib/python3.13/site-packages (from matplotlib->prometheus-api-client) (1.3.2)\n",
      "Requirement already satisfied: cycler>=0.10 in /Users/nikolayborovets/Desktop/bachelor_diploma/realtime_anomaly_analytics/.venv/lib/python3.13/site-packages (from matplotlib->prometheus-api-client) (0.12.1)\n",
      "Requirement already satisfied: fonttools>=4.22.0 in /Users/nikolayborovets/Desktop/bachelor_diploma/realtime_anomaly_analytics/.venv/lib/python3.13/site-packages (from matplotlib->prometheus-api-client) (4.57.0)\n",
      "Requirement already satisfied: kiwisolver>=1.3.1 in /Users/nikolayborovets/Desktop/bachelor_diploma/realtime_anomaly_analytics/.venv/lib/python3.13/site-packages (from matplotlib->prometheus-api-client) (1.4.8)\n",
      "Requirement already satisfied: packaging>=20.0 in /Users/nikolayborovets/Desktop/bachelor_diploma/realtime_anomaly_analytics/.venv/lib/python3.13/site-packages (from matplotlib->prometheus-api-client) (24.2)\n",
      "Requirement already satisfied: pillow>=8 in /Users/nikolayborovets/Desktop/bachelor_diploma/realtime_anomaly_analytics/.venv/lib/python3.13/site-packages (from matplotlib->prometheus-api-client) (11.2.1)\n",
      "Requirement already satisfied: pyparsing>=2.3.1 in /Users/nikolayborovets/Desktop/bachelor_diploma/realtime_anomaly_analytics/.venv/lib/python3.13/site-packages (from matplotlib->prometheus-api-client) (3.2.3)\n",
      "Requirement already satisfied: six>=1.5 in /Users/nikolayborovets/Desktop/bachelor_diploma/realtime_anomaly_analytics/.venv/lib/python3.13/site-packages (from python-dateutil>=2.8.2->pandas>=1.4.0->prometheus-api-client) (1.17.0)\n",
      "\n",
      "\u001b[1m[\u001b[0m\u001b[34;49mnotice\u001b[0m\u001b[1;39;49m]\u001b[0m\u001b[39;49m A new release of pip is available: \u001b[0m\u001b[31;49m25.0.1\u001b[0m\u001b[39;49m -> \u001b[0m\u001b[32;49m25.1.1\u001b[0m\n",
      "\u001b[1m[\u001b[0m\u001b[34;49mnotice\u001b[0m\u001b[1;39;49m]\u001b[0m\u001b[39;49m To update, run: \u001b[0m\u001b[32;49mpip install --upgrade pip\u001b[0m\n"
     ]
    }
   ],
   "source": [
    "!pip install prometheus-api-client"
   ]
  },
  {
   "cell_type": "code",
   "execution_count": 5,
   "metadata": {},
   "outputs": [
    {
     "ename": "NameError",
     "evalue": "name '_parse_step_to_seconds' is not defined",
     "output_type": "error",
     "traceback": [
      "\u001b[31m---------------------------------------------------------------------------\u001b[39m",
      "\u001b[31mNameError\u001b[39m                                 Traceback (most recent call last)",
      "\u001b[36mCell\u001b[39m\u001b[36m \u001b[39m\u001b[32mIn[5]\u001b[39m\u001b[32m, line 45\u001b[39m\n\u001b[32m     39\u001b[39m     \u001b[38;5;66;03m# превращаем обратно в список объектов, как ждёт MetricRangeDataFrame\u001b[39;00m\n\u001b[32m     40\u001b[39m     \u001b[38;5;28;01mreturn\u001b[39;00m [\n\u001b[32m     41\u001b[39m         {\u001b[33m\"\u001b[39m\u001b[33mmetric\u001b[39m\u001b[33m\"\u001b[39m: \u001b[38;5;28mdict\u001b[39m(key), \u001b[33m\"\u001b[39m\u001b[33mvalues\u001b[39m\u001b[33m\"\u001b[39m: \u001b[38;5;28msorted\u001b[39m(vals, key=\u001b[38;5;28;01mlambda\u001b[39;00m x: x[\u001b[32m0\u001b[39m])}\n\u001b[32m     42\u001b[39m         \u001b[38;5;28;01mfor\u001b[39;00m key, vals \u001b[38;5;129;01min\u001b[39;00m merged.items()\n\u001b[32m     43\u001b[39m     ]\n\u001b[32m---> \u001b[39m\u001b[32m45\u001b[39m raw = \u001b[43mchunked_query_merge\u001b[49m\u001b[43m(\u001b[49m\u001b[43mprom\u001b[49m\u001b[43m,\u001b[49m\u001b[43m \u001b[49m\u001b[43mquery\u001b[49m\u001b[43m,\u001b[49m\u001b[43m \u001b[49m\u001b[43mstart\u001b[49m\u001b[43m,\u001b[49m\u001b[43m \u001b[49m\u001b[43mend\u001b[49m\u001b[43m,\u001b[49m\u001b[43m \u001b[49m\u001b[43mstep\u001b[49m\u001b[43m=\u001b[49m\u001b[33;43m\"\u001b[39;49m\u001b[33;43m15s\u001b[39;49m\u001b[33;43m\"\u001b[39;49m\u001b[43m)\u001b[49m\n\u001b[32m     46\u001b[39m df  = MetricRangeDataFrame(raw)\n\u001b[32m     48\u001b[39m \u001b[38;5;66;03m# 5. Работа с данными\u001b[39;00m\n",
      "\u001b[36mCell\u001b[39m\u001b[36m \u001b[39m\u001b[32mIn[5]\u001b[39m\u001b[32m, line 37\u001b[39m, in \u001b[36mchunked_query_merge\u001b[39m\u001b[34m(prom, query, start, end, step, chunk_days)\u001b[39m\n\u001b[32m     34\u001b[39m         key = \u001b[38;5;28mtuple\u001b[39m(\u001b[38;5;28msorted\u001b[39m(serie[\u001b[33m\"\u001b[39m\u001b[33mmetric\u001b[39m\u001b[33m\"\u001b[39m].items()))\n\u001b[32m     35\u001b[39m         merged[key].extend(serie[\u001b[33m\"\u001b[39m\u001b[33mvalues\u001b[39m\u001b[33m\"\u001b[39m])\n\u001b[32m---> \u001b[39m\u001b[32m37\u001b[39m     curr = chunk_end + timedelta(seconds=\u001b[43m_parse_step_to_seconds\u001b[49m(step))  \u001b[38;5;66;03m# избегаем дубли\u001b[39;00m\n\u001b[32m     39\u001b[39m \u001b[38;5;66;03m# превращаем обратно в список объектов, как ждёт MetricRangeDataFrame\u001b[39;00m\n\u001b[32m     40\u001b[39m \u001b[38;5;28;01mreturn\u001b[39;00m [\n\u001b[32m     41\u001b[39m     {\u001b[33m\"\u001b[39m\u001b[33mmetric\u001b[39m\u001b[33m\"\u001b[39m: \u001b[38;5;28mdict\u001b[39m(key), \u001b[33m\"\u001b[39m\u001b[33mvalues\u001b[39m\u001b[33m\"\u001b[39m: \u001b[38;5;28msorted\u001b[39m(vals, key=\u001b[38;5;28;01mlambda\u001b[39;00m x: x[\u001b[32m0\u001b[39m])}\n\u001b[32m     42\u001b[39m     \u001b[38;5;28;01mfor\u001b[39;00m key, vals \u001b[38;5;129;01min\u001b[39;00m merged.items()\n\u001b[32m     43\u001b[39m ]\n",
      "\u001b[31mNameError\u001b[39m: name '_parse_step_to_seconds' is not defined"
     ]
    }
   ],
   "source": [
    "from prometheus_api_client import PrometheusConnect\n",
    "from prometheus_api_client.metric_range_df import MetricRangeDataFrame\n",
    "from datetime import datetime\n",
    "from datetime import timedelta\n",
    "from collections import defaultdict\n",
    "import itertools\n",
    "\n",
    "\n",
    "# 1. Настройка подключения\n",
    "prom = PrometheusConnect(\n",
    "    url=\"http://127.0.0.1:9090\",  # замените на адрес вашего Prometheus\n",
    "    disable_ssl=True               # отключаем проверку SSL, если нужно\n",
    ")\n",
    "\n",
    "# 2. Задаём параметры\n",
    "query = 'histogram_quantile(0.9, sum(rate(common_event_delay_bucket[1m])) by (le))'\n",
    "start_date = \"2025-04-27 18:00:00\"\n",
    "end_date   = \"2025-05-13 11:41:00\"\n",
    "\n",
    "start = datetime.strptime(start_date, \"%Y-%m-%d %H:%M:%S\")\n",
    "end   = datetime.strptime(end_date,   \"%Y-%m-%d %H:%M:%S\")\n",
    "\n",
    "\n",
    "def chunked_query_merge(prom, query, start, end, step=\"15s\", chunk_days=1):\n",
    "    chunk    = timedelta(days=chunk_days)\n",
    "    curr     = start\n",
    "    merged   = defaultdict(list)\n",
    "\n",
    "    while curr < end:\n",
    "        chunk_end = min(curr + chunk, end)\n",
    "\n",
    "        for serie in prom.custom_query_range(query, curr, chunk_end, step=step):\n",
    "            # tuple(sorted()) — устойчивый ключ по лейблам\n",
    "            key = tuple(sorted(serie[\"metric\"].items()))\n",
    "            merged[key].extend(serie[\"values\"])\n",
    "\n",
    "        curr = chunk_end + timedelta(seconds=_parse_step_to_seconds(step))  # избегаем дубли\n",
    "\n",
    "    # превращаем обратно в список объектов, как ждёт MetricRangeDataFrame\n",
    "    return [\n",
    "        {\"metric\": dict(key), \"values\": sorted(vals, key=lambda x: x[0])}\n",
    "        for key, vals in merged.items()\n",
    "    ]\n",
    "\n",
    "raw = chunked_query_merge(prom, query, start, end, step=\"15s\")\n",
    "df  = MetricRangeDataFrame(raw)\n",
    "\n",
    "# 5. Работа с данными\n",
    "print(df.head())        # первые несколько строк\n",
    "print(df.describe())    # базовая статистика\n",
    "\n",
    "# 6. Сохранить в CSV, если нужно\n",
    "df.to_csv(\"quantile_0.9_delay.csv\", index=False)"
   ]
  },
  {
   "cell_type": "code",
   "execution_count": 4,
   "metadata": {},
   "outputs": [
    {
     "data": {
      "text/plain": [
       "89938"
      ]
     },
     "execution_count": 4,
     "metadata": {},
     "output_type": "execute_result"
    }
   ],
   "source": [
    "len(df)"
   ]
  },
  {
   "cell_type": "code",
   "execution_count": null,
   "metadata": {},
   "outputs": [],
   "source": []
  }
 ],
 "metadata": {
  "kernelspec": {
   "display_name": ".venv",
   "language": "python",
   "name": "python3"
  },
  "language_info": {
   "codemirror_mode": {
    "name": "ipython",
    "version": 3
   },
   "file_extension": ".py",
   "mimetype": "text/x-python",
   "name": "python",
   "nbconvert_exporter": "python",
   "pygments_lexer": "ipython3",
   "version": "3.13.3"
  }
 },
 "nbformat": 4,
 "nbformat_minor": 2
}
