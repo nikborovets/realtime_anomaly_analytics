{
 "cells": [
  {
   "cell_type": "markdown",
   "metadata": {},
   "source": [
    "# 03_fredf_baseline\n",
    "\n",
    "Прототип реализации FreDF и сравнение с базовыми моделями."
   ]
  }
 ],
 "metadata": {},
 "nbformat": 4,
 "nbformat_minor": 5
}
