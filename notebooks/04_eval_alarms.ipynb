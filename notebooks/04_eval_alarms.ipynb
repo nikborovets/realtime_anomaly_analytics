{
 "cells": [
  {
   "cell_type": "markdown",
   "metadata": {},
   "source": [
    "# 04_eval_alarms\n",
    "\n",
    "Оценка ROC-AUC и latency-gain для моделей."
   ]
  }
 ],
 "metadata": {
  "language_info": {
   "name": "python"
  }
 },
 "nbformat": 4,
 "nbformat_minor": 5
}
