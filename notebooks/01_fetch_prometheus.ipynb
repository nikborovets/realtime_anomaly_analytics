{
 "cells": [
  {
   "cell_type": "markdown",
   "metadata": {},
   "source": [
    "# 01_fetch_prometheus\n",
    "\n",
    "Первичный запрос данных из Prometheus и первичный EDA."
   ]
  }
 ],
 "metadata": {},
 "nbformat": 4,
 "nbformat_minor": 5
}
