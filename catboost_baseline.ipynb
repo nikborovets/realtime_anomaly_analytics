{
 "cells": [
  {
   "cell_type": "markdown",
   "metadata": {},
   "source": [
    "# 03_fredf_baseline\n",
    "\n",
    "Прототип реализации FreDF и сравнение с базовыми моделями."
   ]
  },
  {
   "cell_type": "markdown",
   "id": "1e2fa730",
   "metadata": {},
   "source": [
    "# Применение моделей на исходных данных"
   ]
  },
  {
   "cell_type": "markdown",
   "id": "c7f13a90",
   "metadata": {},
   "source": []
  },
  {
   "cell_type": "code",
   "execution_count": 1,
   "id": "09a976a6",
   "metadata": {},
   "outputs": [],
   "source": [
    "import matplotlib.pyplot as plt\n",
    "import pandas as pd\n",
    "plt.rcParams['figure.dpi'] = 300\n",
    "\n",
    "from ts_toolkit.io import clean_timeseries\n",
    "from ts_toolkit.calendar import add_hour_sin_cos\n",
    "from ts_toolkit.viz import plot_history_forecast\n",
    "from ts_toolkit.split import three_way_split\n",
    "from src.models.catboost_delay_model import DelayForecastModel\n",
    "from ts_toolkit.metrics import daily_mae\n",
    "from ts_toolkit.metrics import global_metrics"
   ]
  },
  {
   "cell_type": "code",
   "execution_count": 2,
   "id": "5c1ceb64",
   "metadata": {},
   "outputs": [
    {
     "name": "stdout",
     "output_type": "stream",
     "text": [
      "                     common_delay_p90\n",
      "ts                                   \n",
      "2025-04-27 18:00:30       2394.210526\n",
      "2025-04-27 18:00:45       2398.424069\n",
      "2025-04-27 18:01:00       2396.124524\n",
      "2025-04-27 18:01:15       2417.008604\n",
      "2025-04-27 18:01:30       2420.737327\n",
      "<class 'pandas.core.frame.DataFrame'>\n",
      "DatetimeIndex: 90643 entries, 2025-04-27 18:00:30 to 2025-05-13 11:41:00\n",
      "Data columns (total 1 columns):\n",
      " #   Column            Non-Null Count  Dtype  \n",
      "---  ------            --------------  -----  \n",
      " 0   common_delay_p90  90641 non-null  float64\n",
      "dtypes: float64(1)\n",
      "memory usage: 1.4 MB\n",
      "None\n",
      "       common_delay_p90\n",
      "count      90641.000000\n",
      "mean        1802.349510\n",
      "std          901.617551\n",
      "min          235.000000\n",
      "25%          922.395833\n",
      "50%         2094.852941\n",
      "75%         2382.755633\n",
      "max         8500.000000\n",
      "common_delay_p90    2\n",
      "dtype: int64\n"
     ]
    },
    {
     "name": "stderr",
     "output_type": "stream",
     "text": [
      "/home/borovets.av/kolya/realtime_anomaly_analytics/.venv/lib/python3.10/site-packages/tqdm/auto.py:21: TqdmWarning: IProgress not found. Please update jupyter and ipywidgets. See https://ipywidgets.readthedocs.io/en/stable/user_install.html\n",
      "  from .autonotebook import tqdm as notebook_tqdm\n"
     ]
    }
   ],
   "source": [
    "from src.data_loader import fetch_frame\n",
    "# df = fetch_frame()\n",
    "df = fetch_frame(\n",
    "    use_cache=True,\n",
    "    cache_filename=\"only_common_delayp90.parquet\"\n",
    ")\n",
    "print(df.head())\n",
    "\n",
    "print(df.info())\n",
    "\n",
    "print(df.describe())\n",
    "\n",
    "print(df.isnull().sum())\n"
   ]
  },
  {
   "cell_type": "code",
   "execution_count": null,
   "id": "d890a396",
   "metadata": {},
   "outputs": [
    {
     "name": "stdout",
     "output_type": "stream",
     "text": [
      "<class 'pandas.core.frame.DataFrame'>\n",
      "DatetimeIndex: 90643 entries, 2025-04-27 18:00:30 to 2025-05-13 11:41:00\n",
      "Data columns (total 1 columns):\n",
      " #   Column            Non-Null Count  Dtype  \n",
      "---  ------            --------------  -----  \n",
      " 0   common_delay_p90  90641 non-null  float64\n",
      "dtypes: float64(1)\n",
      "memory usage: 1.4 MB\n"
     ]
    },
    {
     "data": {
      "text/html": [
       "<div>\n",
       "<style scoped>\n",
       "    .dataframe tbody tr th:only-of-type {\n",
       "        vertical-align: middle;\n",
       "    }\n",
       "\n",
       "    .dataframe tbody tr th {\n",
       "        vertical-align: top;\n",
       "    }\n",
       "\n",
       "    .dataframe thead th {\n",
       "        text-align: right;\n",
       "    }\n",
       "</style>\n",
       "<table border=\"1\" class=\"dataframe\">\n",
       "  <thead>\n",
       "    <tr style=\"text-align: right;\">\n",
       "      <th></th>\n",
       "      <th>common_delay_p90</th>\n",
       "    </tr>\n",
       "    <tr>\n",
       "      <th>ts</th>\n",
       "      <th></th>\n",
       "    </tr>\n",
       "  </thead>\n",
       "  <tbody>\n",
       "    <tr>\n",
       "      <th>2025-05-13 11:40:00</th>\n",
       "      <td>3738.866397</td>\n",
       "    </tr>\n",
       "    <tr>\n",
       "      <th>2025-05-13 11:40:15</th>\n",
       "      <td>3325.806452</td>\n",
       "    </tr>\n",
       "    <tr>\n",
       "      <th>2025-05-13 11:40:30</th>\n",
       "      <td>2479.835391</td>\n",
       "    </tr>\n",
       "    <tr>\n",
       "      <th>2025-05-13 11:40:45</th>\n",
       "      <td>2452.444134</td>\n",
       "    </tr>\n",
       "    <tr>\n",
       "      <th>2025-05-13 11:41:00</th>\n",
       "      <td>2498.843188</td>\n",
       "    </tr>\n",
       "  </tbody>\n",
       "</table>\n",
       "</div>"
      ],
      "text/plain": [
       "                     common_delay_p90\n",
       "ts                                   \n",
       "2025-05-13 11:40:00       3738.866397\n",
       "2025-05-13 11:40:15       3325.806452\n",
       "2025-05-13 11:40:30       2479.835391\n",
       "2025-05-13 11:40:45       2452.444134\n",
       "2025-05-13 11:41:00       2498.843188"
      ]
     },
     "execution_count": 3,
     "metadata": {},
     "output_type": "execute_result"
    }
   ],
   "source": [
    "df.info()\n",
    "\n",
    "df.describe()\n",
    "\n",
    "df.isnull().sum()\n",
    "\n",
    "df.head()\n",
    "\n",
    "df.tail()"
   ]
  },
  {
   "cell_type": "code",
   "execution_count": 4,
   "id": "73d7d64b",
   "metadata": {},
   "outputs": [],
   "source": [
    "df = clean_timeseries(df, 'common_delay_p90')   # вместо блока 0‑3\n",
    "# df = add_hour_sin_cos(df)\n",
    "# feature_cols = ['hour_sin', 'hour_cos']"
   ]
  },
  {
   "cell_type": "code",
   "execution_count": null,
   "id": "3b4043e6",
   "metadata": {},
   "outputs": [],
   "source": [
    "# feature_cols"
   ]
  },
  {
   "cell_type": "code",
   "execution_count": null,
   "id": "4e28eeea",
   "metadata": {},
   "outputs": [],
   "source": [
    "# инициализируем — можно менять lags/roll_windows/test_size\n",
    "model = DelayForecastModel(\n",
    "    horizon       = 5760,   # сутки = 24*60*60 / 15 = 5760 точек\n",
    "    test_size     = 0.2,    # 80 % train, 20 % hold-out\n",
    "    lags          = [1, 2, 4, 96, 192, 5760],\n",
    "    # roll_windows  = [96, 384, 5760]          # 24 мин, 1 ч, 1 сут\n",
    "    roll_windows  = [4,96,192,1920,2880,4320,5760,8640]\n",
    ")\n",
    "\n",
    "\n",
    "# fit + автоматически нарисует график «train / test-true / test-pred»\n",
    "train_df, test_df = model.fit(\n",
    "    df,\n",
    "    target_col   = 'common_delay_p90',\n",
    "    feature_cols = feature_cols,      # если есть другие метрики — впишите их названия здесь\n",
    "    plot         = True\n",
    ")"
   ]
  },
  {
   "cell_type": "code",
   "execution_count": null,
   "id": "6ab91f89",
   "metadata": {},
   "outputs": [],
   "source": [
    "print(len(train_df), len(test_df))"
   ]
  },
  {
   "cell_type": "code",
   "execution_count": null,
   "id": "957d4e35",
   "metadata": {},
   "outputs": [],
   "source": [
    "# берём последние (max(lags, roll_windows) + horizon) точек\n",
    "history_needed = max(model.lags + model.roll_windows) + model.horizon\n",
    "df_last = df.tail(history_needed)\n",
    "\n",
    "# готовим фичи и предсказываем\n",
    "df_future = model.prepare_future(df_last, 'common_delay_p90')\n",
    "\n",
    "y_hat_next_day = model.predict(df_future)[-model.horizon:]\n",
    "future_index   = pd.date_range(\n",
    "    start=df.index[-1] + pd.Timedelta(seconds=15),\n",
    "    periods=model.horizon,\n",
    "    freq='15S'\n",
    ")\n",
    "\n",
    "from ts_toolkit.viz import plot_history_forecast\n",
    "\n",
    "# ----- визуализация прогноза -----\n",
    "history_series = df_last['common_delay_p90'].iloc[-3*5760:]\n",
    "forecast_series = pd.Series(y_hat_next_day, index=future_index)\n",
    "\n",
    "plot_history_forecast(\n",
    "    history=history_series,\n",
    "    forecast=forecast_series,\n",
    "    title='p90 latency — history vs 24 h forecast'\n",
    ")\n"
   ]
  },
  {
   "cell_type": "markdown",
   "id": "f7e8deaf",
   "metadata": {},
   "source": [
    "## 2. Код-шаблоны для подробного анализа\n"
   ]
  },
  {
   "cell_type": "code",
   "execution_count": null,
   "id": "9376569e",
   "metadata": {},
   "outputs": [],
   "source": [
    "# ---------------------------------------------------\n",
    "# 2.1  получить true & pred на тесте\n",
    "# ---------------------------------------------------\n",
    "#  полный список признаков, который модель видела\n",
    "feat_cols = model.model.feature_names_          # ровно в том порядке!\n",
    "test_feat  = test_df[feat_cols]                 # никаких пропусков\n",
    "assert list(test_feat.columns) == list(model.model.feature_names_)\n",
    "\n",
    "# 1. истинные значения и прогноз\n",
    "test_true  = test_df['common_delay_p90']\n",
    "test_pred  = pd.Series(\n",
    "    model.model.predict(test_feat),\n",
    "    index=test_true.index,\n",
    "    name='pred'\n",
    ")\n",
    "\n",
    "# 2. остатки\n",
    "resid = test_true - test_pred\n",
    "\n",
    "\n",
    "# ---------------------------------------------------\n",
    "# 2.2  сводные метрики\n",
    "# ---------------------------------------------------\n",
    "metrics = global_metrics(test_true, test_pred)\n",
    "metrics_df = pd.DataFrame([metrics]).T.rename(columns={0: \"value\"})\n",
    "print(\"\\n*** Hold-out metrics ***\")\n",
    "print(metrics_df)\n",
    "\n",
    "# ---------------------------------------------------\n",
    "# 2.3  метрики по суткам\n",
    "# ---------------------------------------------------\n",
    "daily_mae_result = daily_mae(test_true, test_pred)\n",
    "print(\"\\nMAE by day:\")\n",
    "print(daily_mae_result.tail())\n",
    "\n",
    "# ---------------------------------------------------\n",
    "# 2.4  распределение ошибок\n",
    "# ---------------------------------------------------\n",
    "plt.figure(figsize=(12,4))\n",
    "plt.hist(resid, bins=100, alpha=.7, edgecolor='black')\n",
    "plt.axvline(resid.mean(), color='r', linestyle='--', label=f\"mean={resid.mean():.1f}\")\n",
    "plt.title(\"Residual distribution on test\")\n",
    "plt.xlabel(\"error (true − pred)\")\n",
    "plt.legend(); plt.tight_layout(); plt.show()\n",
    "\n",
    "# ---------------------------------------------------\n",
    "# 2.5  true vs pred scatter\n",
    "# ---------------------------------------------------\n",
    "plt.figure(figsize=(6,6))\n",
    "plt.scatter(test_true, test_pred, s=3, alpha=0.5)\n",
    "lim = [0, max(test_true.max(), test_pred.max())*1.05]\n",
    "plt.plot(lim, lim, 'k--')\n",
    "plt.xlabel(\"true\"); plt.ylabel(\"pred\")\n",
    "plt.title(\"True vs predicted, test split\")\n",
    "plt.tight_layout(); plt.show()\n"
   ]
  },
  {
   "cell_type": "markdown",
   "id": "359f4cc0",
   "metadata": {},
   "source": [
    "## 3. Feature Importance (какие лаги реально работают)"
   ]
  },
  {
   "cell_type": "code",
   "execution_count": null,
   "id": "1a6677f0",
   "metadata": {},
   "outputs": [],
   "source": [
    "feat_names = model.model.feature_names_        # ← то, что CatBoost запомнил\n",
    "importances = model.model.get_feature_importance(type='FeatureImportance')\n",
    "\n",
    "# в один датафрейм\n",
    "imp_df = (pd.DataFrame({\"feature\": feat_names,\n",
    "                        \"importance\": importances})\n",
    "            .sort_values(by=\"importance\", ascending=False)\n",
    "            .reset_index(drop=True))\n",
    "\n",
    "# ---------------------------------------------------\n",
    "#  топ-20 на графике\n",
    "# ---------------------------------------------------\n",
    "plt.figure(figsize=(10,6))\n",
    "plt.barh(imp_df.feature.head(20)[::-1],\n",
    "         imp_df.importance.head(20)[::-1])\n",
    "plt.title(\"Top-20 feature importances (CatBoost)\")\n",
    "plt.tight_layout(); plt.show()\n"
   ]
  },
  {
   "cell_type": "code",
   "execution_count": null,
   "id": "1cedd8a5",
   "metadata": {},
   "outputs": [],
   "source": [
    "plt.figure(figsize=(14,4))\n",
    "plt.plot(resid.index, resid, alpha=0.7)\n",
    "plt.title(\"Residuals over time (test split)\")\n",
    "plt.axhline(0, color='k', lw=1)\n",
    "plt.tight_layout(); plt.show()\n"
   ]
  },
  {
   "cell_type": "markdown",
   "id": "2550c792",
   "metadata": {},
   "source": [
    "# Проверка на реальных данных"
   ]
  },
  {
   "cell_type": "code",
   "execution_count": null,
   "id": "9d4a4f68",
   "metadata": {},
   "outputs": [],
   "source": [
    "# ─────────────────────────────────────────────────────────────\n",
    "# 1.  выбираем точку отсечки (24 h до конца ряда)\n",
    "# ─────────────────────────────────────────────────────────────\n",
    "step       = pd.Timedelta(seconds=15)\n",
    "H          = model.horizon                   # 5760\n",
    "cut_time   = df.index[-H-1]                  # last seen by model\n",
    "\n",
    "hist_need  = max(model.lags + model.roll_windows) + 10\n",
    "df_hist    = df.loc[:cut_time].tail(hist_need)\n",
    "\n",
    "# ─────────────────────────────────────────────────────────────\n",
    "# 2.  генерируем признаки и прогноз\n",
    "# ─────────────────────────────────────────────────────────────\n",
    "df_future  = model.prepare_future(df_hist, 'common_delay_p90')\n",
    "y_pred     = model.model.predict(df_future)\n",
    "\n",
    "pred_idx   = df_future.index            # ровно столько, сколько точек в y_pred\n",
    "pred_ser   = pd.Series(y_pred, index=pred_idx, name='pred')\n",
    "\n",
    "# ─────────────────────────────────────────────────────────────\n",
    "# 3.  реальные значения (align по pred_idx)\n",
    "# ─────────────────────────────────────────────────────────────\n",
    "y_true = df['common_delay_p90'].loc[pred_idx]   # факты под теми же метками\n",
    "\n",
    "# ─────────────────────────────────────────────────────────────\n",
    "# 4.  метрики\n",
    "# ─────────────────────────────────────────────────────────────\n",
    "metrics = global_metrics(y_true, pred_ser)\n",
    "print(f\"Blind 24-h test • MAE={metrics['MAE']:.1f}  RMSE={metrics['RMSE']:.1f}  MAPE={metrics['MAPE']:.2f}%  \"\n",
    "      f\"on {len(y_true)} valid points\")\n",
    "\n",
    "# ─────────────────────────────────────────────────────────────\n",
    "# 5.  график: 3 сут истории + пред / факт\n",
    "# ─────────────────────────────────────────────────────────────\n",
    "\n",
    "hist_start = cut_time - pd.Timedelta(hours=72)\n",
    "plot_history_forecast(\n",
    "    history  = df.loc[hist_start:cut_time, 'common_delay_p90'],\n",
    "    forecast = pred_ser,\n",
    "    actual   = y_true,\n",
    "    title    = 'Blind forecast vs actual — last 24 h'\n",
    ")\n"
   ]
  },
  {
   "cell_type": "code",
   "execution_count": null,
   "id": "14a8d207",
   "metadata": {},
   "outputs": [],
   "source": [
    "print(\"train_END :\", train_df.index[-1])\n",
    "print(\"cut_time  :\", cut_time)\n",
    "print(\"cut_time > train_END ?\", cut_time > train_df.index[-1])\n"
   ]
  },
  {
   "cell_type": "markdown",
   "id": "4a6fb6e6",
   "metadata": {},
   "source": [
    "# Максимально честный тест"
   ]
  },
  {
   "cell_type": "code",
   "execution_count": null,
   "id": "14834df5",
   "metadata": {},
   "outputs": [
    {
     "name": "stdout",
     "output_type": "stream",
     "text": [
      "Начинаю обучение модели...\n"
     ]
    }
   ],
   "source": [
    "# Разделяем данные\n",
    "df_train, df_val, df_hold = three_way_split(df, train_ratio=0.8, val_ratio=0.1)\n",
    "\n",
    "# ── Создание и обучение модели ─────────────────────────────────\n",
    "model = DelayForecastModel(\n",
    "    horizon=len(df_hold), # Горизонт прогноза равен размеру hold-out\n",
    "    lags=[1, 2, 4, 96, 192, 5760],\n",
    "    roll_windows=[4, 96, 192, 1920, 2880, 4320, 5760, 8640]\n",
    ")\n",
    "\n",
    "# Обучаем модель. fit больше не возвращает датафреймы.\n",
    "print(\"Начинаю обучение модели...\")\n",
    "model.fit(\n",
    "    train_df=df_train, \n",
    "    target_col='common_delay_p90',\n",
    "    val_df=df_val\n",
    "    # feature_cols больше не нужны, модель сама создает календарные признаки\n",
    ")\n",
    "print(\"Модель успешно обучена!\")\n",
    "model.save(\"my_delay_model_v1\") "
   ]
  },
  {
   "cell_type": "code",
   "execution_count": null,
   "id": "eebba47c",
   "metadata": {},
   "outputs": [],
   "source": [
    "# from src.models.catboost_delay_model import DelayForecastModel\n",
    "\n",
    "# # Загружаем модель из папки\n",
    "# loaded_model = DelayForecastModel.load(\"my_delay_model_v1\")\n",
    "\n",
    "# # И сразу используем для прогноза\n",
    "# forecast = loaded_model.predict(df_context) \n",
    "# print(forecast.head())"
   ]
  },
  {
   "cell_type": "code",
   "execution_count": null,
   "id": "ffdf7df8",
   "metadata": {},
   "outputs": [],
   "source": [
    "# ── Прогноз на будущее (hold-out) ──────────────────────────\n",
    "# Для предсказания нам нужна история, достаточная для создания самых \"длинных\" признаков\n",
    "history_need = max(model.lags + model.roll_windows)\n",
    "\n",
    "# Используем только доступную историю (train + val)\n",
    "# .tail() не нужен, так как _prepare_features сам разберется\n",
    "df_context = pd.concat([df_train, df_val])\n",
    "\n",
    "# 🎯 НОВЫЙ МЕТОД ПРОГНОЗА: один вызов возвращает весь горизонт\n",
    "print(\"Делаю прогноз...\")\n",
    "y_pred_series = model.predict(df_hist=df_context)\n",
    "print(\"Прогноз готов!\")\n",
    "\n",
    "# Подготавливаем данные для сравнения\n",
    "y_true = df_hold['common_delay_p90'].reindex(y_pred_series.index).dropna()\n",
    "y_pred = y_pred_series.reindex(y_true.index).dropna() # Убедимся, что все выровнено\n",
    "\n",
    "print(f\"Длина прогноза: {len(y_pred)}, Длина реальных данных: {len(y_true)}\")"
   ]
  },
  {
   "cell_type": "code",
   "execution_count": null,
   "id": "c5d0b4f5",
   "metadata": {},
   "outputs": [],
   "source": [
    "pd.Series(y_pred, index=pred_idx).plot()"
   ]
  },
  {
   "cell_type": "code",
   "execution_count": null,
   "id": "95137937",
   "metadata": {},
   "outputs": [],
   "source": [
    "pd.Series(y_true, index=pred_idx).plot()\n"
   ]
  },
  {
   "cell_type": "code",
   "execution_count": null,
   "id": "fa676651",
   "metadata": {},
   "outputs": [],
   "source": [
    "# y_true и y_pred уже созданы в предыдущей ячейке\n",
    "\n",
    "metrics = global_metrics(y_true, y_pred)\n",
    "print(f\"Blind 24-h test • MAE={metrics['MAE']:.1f}  RMSE={metrics['RMSE']:.1f}  MAPE={metrics['MAPE']:.2f}%  \"\n",
    "      f\"on {len(y_true)} valid points\")\n",
    "\n",
    "# ── график: история 3 сут + прогноз vs факт ──\n",
    "# hist_start = pred_idx[0] - pd.Timedelta(hours=1)\n",
    "hist_start = pred_idx[0] - pd.Timedelta(minutes=30)\n",
    "plot_history_forecast(\n",
    "    history  = df.loc[hist_start:pred_idx[0], 'common_delay_p90'],\n",
    "    forecast = pd.Series(y_pred, index=pred_idx),\n",
    "    actual   = y_true,\n",
    "    title    = 'Blind forecast vs actual — hold-out 24 h'\n",
    ")"
   ]
  },
  {
   "cell_type": "code",
   "execution_count": null,
   "id": "ef7573a8",
   "metadata": {},
   "outputs": [],
   "source": [
    "from ts_toolkit.metrics import daily_mae\n",
    "\n",
    "daily_mae_df = daily_mae(pd.Series(y_true, index=pred_idx), pd.Series(y_pred, index=pred_idx))\n",
    "print(daily_mae_df)"
   ]
  },
  {
   "cell_type": "code",
   "execution_count": null,
   "id": "91894242",
   "metadata": {},
   "outputs": [],
   "source": [
    "# last element of df_train\n",
    "df_val['common_delay_p90'].tail(1)"
   ]
  },
  {
   "cell_type": "code",
   "execution_count": 12,
   "id": "8c34a346",
   "metadata": {},
   "outputs": [],
   "source": [
    "# i want to make list of last element of df_val by len of df_hold\n",
    "\n",
    "# last element of df_val\n",
    "last_element_df_val = df_val['common_delay_p90'].tail(1)\n",
    "\n",
    "# len of df_hold\n",
    "len_df_hold = len(df_hold)\n",
    "\n",
    "# make list of last element of df_val by len of df_hold\n",
    "list_of_last_elements = [float(last_element_df_val.iloc[0])] * len_df_hold\n",
    "\n",
    "# print list_of_last_elements\n",
    "# list_of_last_elements"
   ]
  },
  {
   "cell_type": "code",
   "execution_count": 13,
   "id": "aabf6028",
   "metadata": {},
   "outputs": [],
   "source": [
    "# i want to make list of avg elemet by 15 minutes of concat df_train and df_val\n",
    "\n",
    "# concat df_train and df_val\n",
    "df_train_val = pd.concat([df_train, df_val])\n",
    "\n",
    "# make list of avg elemet of df_train_val\n",
    "list_of_avg_elements = [float(df_train_val['common_delay_p90'].mean())] * len(df_hold)\n",
    "\n",
    "# print list_of_avg_elements\n",
    "# list_of_avg_elements"
   ]
  },
  {
   "cell_type": "code",
   "execution_count": 14,
   "id": "e8bf95b9",
   "metadata": {},
   "outputs": [],
   "source": [
    "# i want to make list of avg elements by last 15 minutes of concat df_train and df_val by len of df_hold\n",
    "\n",
    "# Concatenate df_train and df_val\n",
    "combined_df = pd.concat([df_train, df_val])\n",
    "\n",
    "# Get the timestamp for 15 minutes before the last entry in combined_df\n",
    "last_timestamp = combined_df.index[-1]\n",
    "time_window_start = last_timestamp - pd.Timedelta(minutes=15)\n",
    "\n",
    "# Filter data for the last 15 minutes and calculate the average\n",
    "last_15_min_data = combined_df.loc[time_window_start:last_timestamp, 'common_delay_p90']\n",
    "avg_last_15_minutes = last_15_min_data.mean()\n",
    "\n",
    "# Create a list of this average, repeated len_df_hold times\n",
    "list_of_avg_last_15_minutes_elements = [float(avg_last_15_minutes)] * len(df_hold)\n",
    "\n",
    "# print list_of_avg_last_15_minutes_elements\n",
    "# list_of_avg_last_15_minutes_elements\n",
    "\n"
   ]
  },
  {
   "cell_type": "code",
   "execution_count": null,
   "id": "6a934b62",
   "metadata": {},
   "outputs": [],
   "source": [
    "y_true[1]"
   ]
  },
  {
   "cell_type": "code",
   "execution_count": null,
   "id": "b395dcd2",
   "metadata": {},
   "outputs": [],
   "source": [
    "# y_true и y_pred уже созданы в предыдущей ячейке\n",
    "\n",
    "metrics = global_metrics(y_true, list_of_last_elements)\n",
    "print(f\"Blind 24-h test • MAE={metrics['MAE']:.1f}  RMSE={metrics['RMSE']:.1f}  MAPE={metrics['MAPE']:.2f}%  \"\n",
    "      f\"on {len(y_true)} valid points\")\n",
    "\n",
    "# ── график: история 3 сут + прогноз vs факт ──\n",
    "# hist_start = pred_idx[0] - pd.Timedelta(hours=1)\n",
    "hist_start = pred_idx[0] - pd.Timedelta(minutes=30)\n",
    "plot_history_forecast(\n",
    "    history  = df.loc[hist_start:pred_idx[0], 'common_delay_p90'],\n",
    "    forecast = pd.Series(list_of_last_elements, index=pred_idx),\n",
    "    actual   = y_true,\n",
    "    title    = 'Blind forecast vs actual — hold-out 24 h'\n",
    ")"
   ]
  },
  {
   "cell_type": "code",
   "execution_count": null,
   "id": "e86546b2",
   "metadata": {},
   "outputs": [],
   "source": [
    "# y_true и y_pred уже созданы в предыдущей ячейке\n",
    "\n",
    "metrics = global_metrics(y_true, list_of_avg_elements)\n",
    "print(f\"Blind 24-h test • MAE={metrics['MAE']:.1f}  RMSE={metrics['RMSE']:.1f}  MAPE={metrics['MAPE']:.2f}%  \"\n",
    "      f\"on {len(y_true)} valid points\")\n",
    "\n",
    "# ── график: история 3 сут + прогноз vs факт ──\n",
    "# hist_start = pred_idx[0] - pd.Timedelta(hours=1)\n",
    "hist_start = pred_idx[0] - pd.Timedelta(minutes=30)\n",
    "plot_history_forecast(\n",
    "    history  = df.loc[hist_start:pred_idx[0], 'common_delay_p90'],\n",
    "    forecast = pd.Series(list_of_avg_elements, index=pred_idx),\n",
    "    actual   = y_true,\n",
    "    title    = 'Blind forecast vs actual — hold-out 24 h'\n",
    ")"
   ]
  },
  {
   "cell_type": "code",
   "execution_count": null,
   "id": "f2b21387",
   "metadata": {},
   "outputs": [],
   "source": [
    "# y_true и y_pred уже созданы в предыдущей ячейке\n",
    "\n",
    "metrics = global_metrics(y_true, list_of_avg_last_15_minutes_elements)\n",
    "print(f\"Blind 24-h test • MAE={metrics['MAE']:.1f}  RMSE={metrics['RMSE']:.1f}  MAPE={metrics['MAPE']:.2f}%  \"\n",
    "      f\"on {len(y_true)} valid points\")\n",
    "\n",
    "# ── график: история 3 сут + прогноз vs факт ──\n",
    "# hist_start = pred_idx[0] - pd.Timedelta(hours=1)\n",
    "hist_start = pred_idx[0] - pd.Timedelta(minutes=30)\n",
    "plot_history_forecast(\n",
    "    history  = df.loc[hist_start:pred_idx[0], 'common_delay_p90'],\n",
    "    forecast = pd.Series(list_of_avg_last_15_minutes_elements, index=pred_idx),\n",
    "    actual   = y_true,\n",
    "    title    = 'Blind forecast vs actual — hold-out 24 h'\n",
    ")"
   ]
  },
  {
   "cell_type": "code",
   "execution_count": null,
   "id": "cd0712f3",
   "metadata": {},
   "outputs": [],
   "source": []
  },
  {
   "cell_type": "code",
   "execution_count": null,
   "id": "6114388b",
   "metadata": {},
   "outputs": [],
   "source": []
  }
 ],
 "metadata": {
  "kernelspec": {
   "display_name": ".venv",
   "language": "python",
   "name": "python3"
  },
  "language_info": {
   "codemirror_mode": {
    "name": "ipython",
    "version": 3
   },
   "file_extension": ".py",
   "mimetype": "text/x-python",
   "name": "python",
   "nbconvert_exporter": "python",
   "pygments_lexer": "ipython3",
   "version": "3.10.12"
  }
 },
 "nbformat": 4,
 "nbformat_minor": 5
}
